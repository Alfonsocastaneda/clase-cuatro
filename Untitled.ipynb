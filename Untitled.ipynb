{
 "cells": [
  {
   "cell_type": "code",
   "execution_count": 20,
   "metadata": {},
   "outputs": [
    {
     "ename": "IndentationError",
     "evalue": "unexpected indent (<ipython-input-20-f4663afbd16a>, line 5)",
     "output_type": "error",
     "traceback": [
      "\u001b[1;36m  File \u001b[1;32m\"<ipython-input-20-f4663afbd16a>\"\u001b[1;36m, line \u001b[1;32m5\u001b[0m\n\u001b[1;33m    req = Request('https://www.dane.gov.co/index.php/indicadores-economicos',None,{'User-agent' : 'Mozilla/5.0 (Windows; U; Windows NT 5.1; de; rv:1.9.1.5) Gecko/20091102 Firefox/3.5.5'})\u001b[0m\n\u001b[1;37m    ^\u001b[0m\n\u001b[1;31mIndentationError\u001b[0m\u001b[1;31m:\u001b[0m unexpected indent\n"
     ]
    }
   ],
   "source": [
    "from urllib.request import Request, urlopen\n",
    "from pyquery import PyQuery \n",
    "\n",
    "    \n",
    "\n"
   ]
  },
  {
   "cell_type": "code",
   "execution_count": 21,
   "metadata": {},
   "outputs": [
    {
     "name": "stdout",
     "output_type": "stream",
     "text": [
      "<h1 style=\"text-align: center;\">$3.734,09</h1>&#13;\n",
      "<h1 style=\"text-align: center;\">280,14</h1>&#13;\n",
      "<h1 style=\"text-align: center;\">1,79%</h1>&#13;\n",
      "<h1 style=\"text-align: center;\"><strong><a title=\"Ver información sobre desempleo\" href=\"/index.php/estadisticas-por-tema/mercado-laboral/empleo-y-desempleo\" target=\"_blank\" rel=\"alternate noopener noreferrer\">14,2%</a></strong></h1>&#13;\n",
      "<h1 style=\"text-align: center;\"><strong><a title=\"Ver información sobre IPC - Índice de Precios al consumidor\" href=\"/index.php/estadisticas-por-tema/precios-y-costos/indice-de-precios-al-consumidor-ipc\" rel=\"alternate\">0,59%</a></strong></h1>&#13;\n",
      "<h1 style=\"text-align: center;\"><strong><a title=\"Ver información sobre el PIB - Producto Interno Bruto\" href=\"/index.php/estadisticas-por-tema/cuentas-nacionales/cuentas-nacionales-trimestrales\" rel=\"alternate\">-6,8%</a></strong></h1>&#13;\n",
      "<h1 style=\"text-align: center;\">$908.526</h1>&#13;\n",
      "<h1 style=\"text-align: center;\">US$1,99</h1>&#13;\n",
      "<h1 style=\"text-align: center;\">US$65,85</h1>&#13;\n",
      "\n"
     ]
    }
   ],
   "source": [
    "req = Request('https://www.dane.gov.co/index.php/indicadores-economicos',None,{'User-agent' : 'Mozilla/5.0 (Windows; U; Windows NT 5.1; de; rv:1.9.1.5) Gecko/20091102 Firefox/3.5.5'})\n",
    "content = urlopen(req).read()\n",
    "pq = PyQuery(content)\n",
    "trm = pq ('table')('h1')\n",
    "print(trm)"
   ]
  },
  {
   "cell_type": "code",
   "execution_count": null,
   "metadata": {},
   "outputs": [],
   "source": []
  },
  {
   "cell_type": "code",
   "execution_count": null,
   "metadata": {},
   "outputs": [],
   "source": []
  },
  {
   "cell_type": "code",
   "execution_count": null,
   "metadata": {},
   "outputs": [],
   "source": []
  }
 ],
 "metadata": {
  "kernelspec": {
   "display_name": "Python 3",
   "language": "python",
   "name": "python3"
  },
  "language_info": {
   "codemirror_mode": {
    "name": "ipython",
    "version": 3
   },
   "file_extension": ".py",
   "mimetype": "text/x-python",
   "name": "python",
   "nbconvert_exporter": "python",
   "pygments_lexer": "ipython3",
   "version": "3.8.5"
  }
 },
 "nbformat": 4,
 "nbformat_minor": 4
}
